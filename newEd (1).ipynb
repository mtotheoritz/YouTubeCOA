{
 "cells": [
  {
   "cell_type": "code",
   "execution_count": 401,
   "id": "d6d1f581",
   "metadata": {},
   "outputs": [],
   "source": [
    "import pandas as pd\n",
    "import numpy as np\n",
    "import os\n",
    "import pandas as pd"
   ]
  },
  {
   "cell_type": "code",
   "execution_count": 402,
   "id": "ce7afe16",
   "metadata": {},
   "outputs": [],
   "source": [
    "#dataset contains k as thousand within the like_count and None as 0 within the reply_count. This is both not applicable for dividing. Additionally, the columns are saved as object and need to be converted into float64\n",
    "def convert_k_to_thousand(value):\n",
    "    \"\"\"\n",
    "    Convert a string number into a float.\n",
    "    '2.1k' or '2.1K' -> 2100.0\n",
    "    'none' or '0' -> 1\n",
    "    \"\"\"\n",
    "    value_str = str(value).lower()\n",
    "    if 'k' in value_str:\n",
    "        return float(value_str.replace('k', '')) * 1000\n",
    "    elif value_str == 'none' or value_str == '0':\n",
    "        return 1.0  # return 1 for 'none' and '0'\n",
    "    try:\n",
    "        return float(value_str)\n",
    "    except ValueError:\n",
    "        return np.nan  # return NaN for non-numeric strings\n",
    "    pass"
   ]
  },
  {
   "cell_type": "code",
   "execution_count": 403,
   "id": "a9b3524d",
   "metadata": {},
   "outputs": [],
   "source": [
    "#buckets are there too split the dataset into relative sectors. In this case 10 equal sized sectors/buckets of each dataset. Different datasets have different no. of buckets\n",
    "def bucket_positions(df):\n",
    "    df['position_bucket'] = pd.qcut(df['position'], q=10, labels=False)\n",
    "    return df"
   ]
  },
  {
   "cell_type": "code",
   "execution_count": 404,
   "id": "3e9e133a",
   "metadata": {},
   "outputs": [],
   "source": [
    "#creates a list of dataframes\n",
    "#directory path where Excel files are stored\n",
    "excel_dir = r'C:\\Users\\morit\\OneDrive\\Dokumente\\Kommentar-Algorithmus\\Seminar\\data'\n",
    "excel_files = [f for f in os.listdir(excel_dir) if f.endswith('.xlsx')]\n",
    "dataframes = []\n",
    "irrelevant_columns = ['vedio_url', 'content', 'dislike_count', 'reply_user', \n",
    "                      'reply_content', 'reply_comment_time', 'reply_like_count', \n",
    "                      'reply_dislike_count', 'post_comment_count', 'CrawlTime']"
   ]
  },
  {
   "cell_type": "code",
   "execution_count": 405,
   "id": "698b8ed0",
   "metadata": {},
   "outputs": [],
   "source": [
    "#Invoking dataframes and dropping unnecessary columns \n",
    "for file in excel_files:\n",
    "    df = pd.read_excel(os.path.join(excel_dir, file))\n",
    "    \n",
    "    #Drops irrelevant columns\n",
    "    df = df.drop(irrelevant_columns, axis=1)\n",
    "    #Converts 'like_count' and 'reply_count' columns to numeric\n",
    "    df['like_count'] = df['like_count'].apply(convert_k_to_thousand)\n",
    "    df['reply_count'] = df['reply_count'].apply(convert_k_to_thousand)\n",
    "    #Computes UII\n",
    "    df['user_interaction_index'] = df['reply_count'] / df['like_count']\n",
    "    \n",
    "    #Adds position\n",
    "    df['position'] = range(1, len(df) + 1)\n",
    "    \n",
    "    #Applies the bucket_positions function to get relative representations of each dataset\n",
    "    df = bucket_positions(df)\n",
    "    #Adds video ID\n",
    "    video_id = os.path.splitext(file)[0]\n",
    "    df['video_id'] = video_id\n",
    "    # Adds to the list\n",
    "    dataframes.append(df)\n",
    "\n",
    "#Combines all the dataframes into a single dataframe\n",
    "combined_df = pd.concat(dataframes)"
   ]
  },
  {
   "cell_type": "code",
   "execution_count": null,
   "id": "ea631d58",
   "metadata": {},
   "outputs": [],
   "source": [
    "\n"
   ]
  },
  {
   "cell_type": "code",
   "execution_count": 406,
   "id": "48f344ee",
   "metadata": {},
   "outputs": [
    {
     "name": "stdout",
     "output_type": "stream",
     "text": [
      "Comment counts for each video:  video_id\n",
      "CBS                  763\n",
      "CBS2                 493\n",
      "CBS3                 753\n",
      "CBS4                 825\n",
      "CBS5                 706\n",
      "CBS6                 687\n",
      "CNN1                 762\n",
      "CNN2                 558\n",
      "FOX1                 749\n",
      "FOX2.sxls            584\n",
      "bild1                861\n",
      "bild10               688\n",
      "bild11               494\n",
      "bild12               290\n",
      "bild13               688\n",
      "bild14               868\n",
      "bild2                580\n",
      "bild3                580\n",
      "bild4                822\n",
      "bild5                837\n",
      "bild6                815\n",
      "bild7                532\n",
      "bild8                212\n",
      "bild9                937\n",
      "heuteShow1           632\n",
      "heuteShow2           854\n",
      "heuteShow3           714\n",
      "heuteShow4           821\n",
      "heuteShow5           888\n",
      "heuteShow6           847\n",
      "klimaaktivismus1    1054\n",
      "klimaaktivismus2     565\n",
      "klimaaktivismus3     599\n",
      "klimaaktivismus4     374\n",
      "spiegel1             322\n",
      "spiegel2             950\n",
      "spiegel3             503\n",
      "spiegel4             547\n",
      "sportschau1          934\n",
      "unbubble1           1126\n",
      "unbubble10           872\n",
      "unbubble11           585\n",
      "unbubble2           1126\n",
      "unbubble3           1229\n",
      "unbubble4            694\n",
      "unbubble5            968\n",
      "unbubble6            894\n",
      "unbubble7            762\n",
      "unbubble8            275\n",
      "unbubble9            872\n",
      "vice1               1128\n",
      "vice2               1025\n",
      "dtype: int64\n"
     ]
    }
   ],
   "source": [
    "#Groups by 'video_id' and then counts the number of comments for each video\n",
    "comment_counts = combined_df.groupby('video_id').size()\n",
    "\n",
    "#Prints the comment counts for each video\n",
    "print(\"Comment counts for each video: \", comment_counts)\n"
   ]
  },
  {
   "cell_type": "code",
   "execution_count": 407,
   "id": "80530622",
   "metadata": {},
   "outputs": [],
   "source": [
    "#combining the dataframes. \n",
    "#The single dataset contains each entry of each selected YouTube video \n",
    "combined_df = pd.concat(dataframes, ignore_index=True)\n",
    "combined_df.to_excel('CDF.xlsx', index=False)\n",
    "#filtered_df = combined_df[(combined_df['like_count'] >= 5) & (combined_df['like_count'] <= 200)]\n",
    "filtered_df = combined_df[combined_df['like_count'] >= 5]"
   ]
  },
  {
   "cell_type": "code",
   "execution_count": 408,
   "id": "b5eda949",
   "metadata": {},
   "outputs": [],
   "source": [
    "#we have to include a comments popularity to mitigate bias. A comment with 1000 likes and 100 answers on pos. 20 is more unusual than a comment with 10 likes and 1 answer at position 10.\n",
    "#Therefore, several like ranges (classes) are defined which represent comments of similar popularity regarding their likes\n",
    "#The more popular a comment is, the smaller the range steps (i.e., within 100 likes 20 ranges are created, whereas between 300 and 400 likes only 10 like ranges are created)\n",
    "#We then calculate the average position of each class \n",
    "#A hyperparameter is then introduced to adjust which comments should be considered for comparing\n",
    "#For example, if the hyperparameter is set on 6, it means that only comments are compared to the average reference point, that have 6 times more replies than their average neighbours. \n",
    "#Chance: The higher the hyperparameter, the more likely is an ongoing discussion\n",
    "#Bias: The higher the parameter, the less representative is the result since there are less data instances which can be considered"
   ]
  },
  {
   "cell_type": "code",
   "execution_count": 409,
   "id": "cb9ec47c",
   "metadata": {},
   "outputs": [
    {
     "data": {
      "image/png": "[encoded data removed]",
      "text/plain": [
       "<Figure size 640x480 with 1 Axes>"
      ]
     },
     "metadata": {},
     "output_type": "display_data"
    }
   ],
   "source": [
    "import matplotlib.pyplot as plt\n",
    "\n",
    "#Loads the dataset\n",
    "dataset_path = r'C:\\Users\\morit\\OneDrive\\Dokumente\\Kommentar-Algorithmus\\Seminar\\data_trash\\spiegel5.xlsx'\n",
    "dataset_df = pd.read_excel(dataset_path)\n",
    "\n",
    "#Gets the number of likes and replies for each comment in the dataset\n",
    "likes = dataset_df['like_count'].values\n",
    "#replies = dataset_df['reply_count'].values\n",
    "\n",
    "\n",
    "#Creates an array of x-values for the comments\n",
    "comments = range(1, len(dataset_df) + 1)\n",
    "\n",
    "#Plots the number of likes\n",
    "plt.scatter(comments, likes, color='blue', label='Likes')\n",
    "\n",
    "#Plots the number of replies\n",
    "#plt.scatter(comments, replies, color='red', label='Replies')\n",
    "\n",
    "plt.xlabel('Comment')\n",
    "plt.ylabel('Count')\n",
    "plt.title('Likes and Replies for each Comment')\n",
    "plt.legend()\n",
    "plt.show()\n"
   ]
  },
  {
   "cell_type": "code",
   "execution_count": 410,
   "id": "3242ed29",
   "metadata": {},
   "outputs": [
    {
     "name": "stderr",
     "output_type": "stream",
     "text": [
      "C:\\Users\\morit\\AppData\\Local\\Temp\\ipykernel_5828\\2364720496.py:16: SettingWithCopyWarning: \n",
      "A value is trying to be set on a copy of a slice from a DataFrame.\n",
      "Try using .loc[row_indexer,col_indexer] = value instead\n",
      "\n",
      "See the caveats in the documentation: https://pandas.pydata.org/pandas-docs/stable/user_guide/indexing.html#returning-a-view-versus-a-copy\n",
      "  filtered_df['like_range_class'] = filtered_df['like_count'].apply(classify_like_range)\n",
      "C:\\Users\\morit\\AppData\\Local\\Temp\\ipykernel_5828\\2364720496.py:17: SettingWithCopyWarning: \n",
      "A value is trying to be set on a copy of a slice from a DataFrame.\n",
      "Try using .loc[row_indexer,col_indexer] = value instead\n",
      "\n",
      "See the caveats in the documentation: https://pandas.pydata.org/pandas-docs/stable/user_guide/indexing.html#returning-a-view-versus-a-copy\n",
      "  filtered_df['relative_position'] = filtered_df.groupby('video_id')['position'].apply(lambda x: x / x.max())\n"
     ]
    }
   ],
   "source": [
    "def classify_like_range(likes):\n",
    "    if likes < 100:\n",
    "        return likes // 5  # 20 ranges for 0-99 likes\n",
    "    elif likes < 300:\n",
    "        return 20 + (likes - 100) // 10  # 20 ranges for 100-299 likes\n",
    "    elif likes < 600:\n",
    "        return 40 + (likes - 300) // 20  # 15 ranges for 300-599 likes\n",
    "    elif likes < 1000:\n",
    "        return 55 + (likes - 600) // 100  # 1 range for each 100 likes for 600-999 likes\n",
    "    elif likes < 3000:\n",
    "        return 59 + (likes - 1000) // 200  # 1 range for each 200 likes for 1000-2999 likes\n",
    "    else:\n",
    "        return 69  #For 3000 and above, all comments should be assigned to the same like range, no. 69\n",
    "#69 classes have been created. Class 69 is a collection of all comments with more than 3000 likes\n",
    "#Now, we can apply this function to the DataFrame\n",
    "filtered_df['like_range_class'] = filtered_df['like_count'].apply(classify_like_range)\n",
    "filtered_df['relative_position'] = filtered_df.groupby('video_id')['position'].apply(lambda x: x / x.max())"
   ]
  },
  {
   "cell_type": "code",
   "execution_count": 411,
   "id": "7eda42fb",
   "metadata": {
    "scrolled": true
   },
   "outputs": [
    {
     "name": "stderr",
     "output_type": "stream",
     "text": [
      "C:\\Users\\morit\\AppData\\Local\\Temp\\ipykernel_5828\\2141063905.py:2: SettingWithCopyWarning: \n",
      "A value is trying to be set on a copy of a slice from a DataFrame.\n",
      "Try using .loc[row_indexer,col_indexer] = value instead\n",
      "\n",
      "See the caveats in the documentation: https://pandas.pydata.org/pandas-docs/stable/user_guide/indexing.html#returning-a-view-versus-a-copy\n",
      "  filtered_df['mean_reply_count'] = filtered_df.groupby('like_range_class')['reply_count'].transform('mean')\n"
     ]
    },
    {
     "data": {
      "text/html": [
       "<div>\n",
       "<style scoped>\n",
       "    .dataframe tbody tr th:only-of-type {\n",
       "        vertical-align: middle;\n",
       "    }\n",
       "\n",
       "    .dataframe tbody tr th {\n",
       "        vertical-align: top;\n",
       "    }\n",
       "\n",
       "    .dataframe thead th {\n",
       "        text-align: right;\n",
       "    }\n",
       "</style>\n",
       "<table border=\"1\" class=\"dataframe\">\n",
       "  <thead>\n",
       "    <tr style=\"text-align: right;\">\n",
       "      <th></th>\n",
       "      <th>comment_user</th>\n",
       "      <th>comment_time</th>\n",
       "      <th>like_count</th>\n",
       "      <th>reply_count</th>\n",
       "      <th>user_interaction_index</th>\n",
       "      <th>position</th>\n",
       "      <th>position_bucket</th>\n",
       "      <th>video_id</th>\n",
       "      <th>like_range_class</th>\n",
       "      <th>relative_position</th>\n",
       "      <th>mean_reply_count</th>\n",
       "    </tr>\n",
       "  </thead>\n",
       "  <tbody>\n",
       "    <tr>\n",
       "      <th>37904</th>\n",
       "      <td>@Nbaclout922</td>\n",
       "      <td>3 years ago</td>\n",
       "      <td>8.0</td>\n",
       "      <td>1.0</td>\n",
       "      <td>0.125000</td>\n",
       "      <td>686</td>\n",
       "      <td>6</td>\n",
       "      <td>vice2</td>\n",
       "      <td>1.0</td>\n",
       "      <td>0.967560</td>\n",
       "      <td>1.703568</td>\n",
       "    </tr>\n",
       "    <tr>\n",
       "      <th>37907</th>\n",
       "      <td>@adamp4428</td>\n",
       "      <td>3 years ago</td>\n",
       "      <td>11.0</td>\n",
       "      <td>1.0</td>\n",
       "      <td>0.090909</td>\n",
       "      <td>689</td>\n",
       "      <td>6</td>\n",
       "      <td>vice2</td>\n",
       "      <td>2.0</td>\n",
       "      <td>0.971791</td>\n",
       "      <td>2.177690</td>\n",
       "    </tr>\n",
       "    <tr>\n",
       "      <th>37913</th>\n",
       "      <td>@KN-yk9lp</td>\n",
       "      <td>3 years ago</td>\n",
       "      <td>10.0</td>\n",
       "      <td>5.0</td>\n",
       "      <td>0.500000</td>\n",
       "      <td>695</td>\n",
       "      <td>6</td>\n",
       "      <td>vice2</td>\n",
       "      <td>2.0</td>\n",
       "      <td>0.980254</td>\n",
       "      <td>2.177690</td>\n",
       "    </tr>\n",
       "    <tr>\n",
       "      <th>37915</th>\n",
       "      <td>@John_Nada_</td>\n",
       "      <td>3 years ago</td>\n",
       "      <td>23.0</td>\n",
       "      <td>1.0</td>\n",
       "      <td>0.043478</td>\n",
       "      <td>697</td>\n",
       "      <td>6</td>\n",
       "      <td>vice2</td>\n",
       "      <td>4.0</td>\n",
       "      <td>0.983075</td>\n",
       "      <td>2.838362</td>\n",
       "    </tr>\n",
       "    <tr>\n",
       "      <th>37927</th>\n",
       "      <td>@acidityparrots2127</td>\n",
       "      <td>3 years ago</td>\n",
       "      <td>28.0</td>\n",
       "      <td>3.0</td>\n",
       "      <td>0.107143</td>\n",
       "      <td>709</td>\n",
       "      <td>6</td>\n",
       "      <td>vice2</td>\n",
       "      <td>5.0</td>\n",
       "      <td>1.000000</td>\n",
       "      <td>3.360563</td>\n",
       "    </tr>\n",
       "  </tbody>\n",
       "</table>\n",
       "</div>"
      ],
      "text/plain": [
       "              comment_user comment_time  like_count  reply_count  \\\n",
       "37904         @Nbaclout922  3 years ago         8.0          1.0   \n",
       "37907           @adamp4428  3 years ago        11.0          1.0   \n",
       "37913            @KN-yk9lp  3 years ago        10.0          5.0   \n",
       "37915          @John_Nada_  3 years ago        23.0          1.0   \n",
       "37927  @acidityparrots2127  3 years ago        28.0          3.0   \n",
       "\n",
       "       user_interaction_index  position  position_bucket video_id  \\\n",
       "37904                0.125000       686                6    vice2   \n",
       "37907                0.090909       689                6    vice2   \n",
       "37913                0.500000       695                6    vice2   \n",
       "37915                0.043478       697                6    vice2   \n",
       "37927                0.107143       709                6    vice2   \n",
       "\n",
       "       like_range_class  relative_position  mean_reply_count  \n",
       "37904               1.0           0.967560          1.703568  \n",
       "37907               2.0           0.971791          2.177690  \n",
       "37913               2.0           0.980254          2.177690  \n",
       "37915               4.0           0.983075          2.838362  \n",
       "37927               5.0           1.000000          3.360563  "
      ]
     },
     "execution_count": 411,
     "metadata": {},
     "output_type": "execute_result"
    }
   ],
   "source": [
    "#we have to calculate the mean of all comments which do have more replies than the avg reply count of their class.\n",
    "filtered_df['mean_reply_count'] = filtered_df.groupby('like_range_class')['reply_count'].transform('mean')\n",
    "filtered_df.to_excel('filtered_dfs.xlsx')\n",
    "filtered_df.tail()"
   ]
  },
  {
   "cell_type": "code",
   "execution_count": 412,
   "id": "2395c7b4",
   "metadata": {},
   "outputs": [
    {
     "name": "stdout",
     "output_type": "stream",
     "text": [
      "For class 65:\n",
      " Mean relative position of comments with above 5 times the average replies: 0.5084883826224272\n",
      "Mean relative position of comments with below or equal to 5 times the average replies: 0.39516813669601325\n",
      "{}\n"
     ]
    }
   ],
   "source": [
    "#Now all comments are considered for the position comparison.\n",
    "#the class which is chosen can be modified to either single classes, ranges of whole classes or all classes ontogehter. For example, 20 would calculate measure the values for the first 100 comments of each dataset.\n",
    "# Select class <=69\n",
    "#we dont consider comments with less than 5 likes. This is since these comments would bias the result for mean relative position of comments with below or equal to x times the average replies. Since there are many unrelevant (unpopular comments), most of them are placed in the middle and bottom areas of the section. Therefore, the calculation would overrepresent the results.\n",
    "#test result if comments below 5 likes are also consideres: 0.62 vs. 0.56. It is clearly visible how the second value is biased due to the overrepresentation of comments with no popularity and therefore placed in farther secion areas.\n",
    "df_class_selected = filtered_df[filtered_df['like_range_class'] <= 69]\n",
    "\n",
    "# Defines hyperparameter x as a threshold by creating new column 'x_mean_reply_count' which is x times the mean reply count for each class\n",
    "df_class_selected['x_mean_reply_count'] = df_class_selected['mean_reply_count'] * 8\n",
    "\n",
    "#Now calculating the mean positions of comments with lower and higher reply counts (based on the hyperparameter)\n",
    "mean_position_above_avg = df_class_selected[df_class_selected['reply_count'] > df_class_selected['x_mean_reply_count']]['relative_position'].mean()\n",
    "mean_position_below_avg = df_class_selected[df_class_selected['reply_count'] <= df_class_selected['x_mean_reply_count']]['relative_position'].mean()\n",
    "\n",
    "print(f\"For class 65:\\n Mean relative position of comments with above 5 times the average replies: {mean_position_above_avg}\")\n",
    "print(f\"Mean relative position of comments with below or equal to 5 times the average replies: {mean_position_below_avg}\")\n",
    "print({})"
   ]
  },
  {
   "cell_type": "code",
   "execution_count": 413,
   "id": "0d9842f4",
   "metadata": {},
   "outputs": [
    {
     "name": "stdout",
     "output_type": "stream",
     "text": [
      "The number of comments that have more than 5 times replies than the mean reply count: 40\n"
     ]
    }
   ],
   "source": [
    "num_comments_above_threshold = df_class_selected[df_class_selected['reply_count'] > df_class_selected['x_mean_reply_count']].shape[0]\n",
    "print(f\"The number of comments that have more than 5 times replies than the mean reply count: {num_comments_above_threshold}\")\n"
   ]
  },
  {
   "cell_type": "code",
   "execution_count": 414,
   "id": "ce6ebe48",
   "metadata": {},
   "outputs": [
    {
     "name": "stdout",
     "output_type": "stream",
     "text": [
      "For x=1:\n",
      "Number of comments with above 1 times the average replies: 2493\n",
      "Mean relative position: 0.4091569252460582\n",
      "Number of comments with below or equal to 1 times the average replies: 6456\n",
      "Mean relative position: 0.39160384091265027\n",
      "\n",
      "For x=2:\n",
      "Number of comments with above 2 times the average replies: 1022\n",
      "Mean relative position: 0.4285248790497851\n",
      "Number of comments with below or equal to 2 times the average replies: 7927\n",
      "Mean relative position: 0.39236409551931567\n",
      "\n",
      "For x=3:\n",
      "Number of comments with above 3 times the average replies: 481\n",
      "Mean relative position: 0.44449233481820305\n",
      "Number of comments with below or equal to 3 times the average replies: 8468\n",
      "Mean relative position: 0.3937673356781932\n",
      "\n",
      "For x=4:\n",
      "Number of comments with above 4 times the average replies: 268\n",
      "Mean relative position: 0.48038268745322\n",
      "Number of comments with below or equal to 4 times the average replies: 8681\n",
      "Mean relative position: 0.3939039340321435\n",
      "\n",
      "For x=5:\n",
      "Number of comments with above 5 times the average replies: 142\n",
      "Mean relative position: 0.5250905501621282\n",
      "Number of comments with below or equal to 5 times the average replies: 8807\n",
      "Mean relative position: 0.39442031945582817\n",
      "\n",
      "For x=6:\n",
      "Number of comments with above 6 times the average replies: 76\n",
      "Mean relative position: 0.5444299438397106\n",
      "Number of comments with below or equal to 6 times the average replies: 8873\n",
      "Mean relative position: 0.3952266353926161\n",
      "\n",
      "For x=7:\n",
      "Number of comments with above 7 times the average replies: 57\n",
      "Mean relative position: 0.5768999741807403\n",
      "Number of comments with below or equal to 7 times the average replies: 8892\n",
      "Mean relative position: 0.395337304660616\n",
      "\n",
      "For x=8:\n",
      "Number of comments with above 8 times the average replies: 32\n",
      "Mean relative position: 0.6346432131875313\n",
      "Number of comments with below or equal to 8 times the average replies: 8917\n",
      "Mean relative position: 0.3956391195187281\n",
      "\n",
      "For x=9:\n",
      "Number of comments with above 9 times the average replies: 27\n",
      "Mean relative position: 0.63629995753297\n",
      "Number of comments with below or equal to 9 times the average replies: 8922\n",
      "Mean relative position: 0.3957680467066924\n",
      "\n",
      "For x=10:\n",
      "Number of comments with above 10 times the average replies: 16\n",
      "Mean relative position: 0.5699017630798617\n",
      "Number of comments with below or equal to 10 times the average replies: 8933\n",
      "Mean relative position: 0.3961831616882595\n",
      "\n",
      "For x=11:\n",
      "Number of comments with above 11 times the average replies: 9\n",
      "Mean relative position: 0.5846817893950907\n",
      "Number of comments with below or equal to 11 times the average replies: 8940\n",
      "Mean relative position: 0.39630430374339426\n",
      "\n",
      "For x=12:\n",
      "Number of comments with above 12 times the average replies: 6\n",
      "Mean relative position: 0.6061306057898433\n",
      "Number of comments with below or equal to 12 times the average replies: 8943\n",
      "Mean relative position: 0.39635310610933255\n",
      "\n"
     ]
    }
   ],
   "source": [
    "#Defines the range of x values to iterate over\n",
    "x_values = range(1, 13)\n",
    "\n",
    "#Now all comments are considered for the position comparison.\n",
    "df_class_selected = filtered_df[filtered_df['like_range_class'] <= 69]\n",
    "\n",
    "for x in x_values:\n",
    "    # Creates a copy of df_class_selected to avoid chaining assignment warning\n",
    "    df_class_iter = df_class_selected.copy()\n",
    "\n",
    "    # Defines hyperparameter x as a threshold by creating new column 'x_mean_reply_count' which is x times the mean reply count for each class\n",
    "    df_class_iter['x_mean_reply_count'] = df_class_iter['mean_reply_count'] * x\n",
    "\n",
    "    # Filters out comments that have more than 8 times the average replies and have a relative position lower than 0.03\n",
    "    df_class_iter = df_class_iter[~((df_class_iter['reply_count'] > 5 * df_class_iter['mean_reply_count']) & (df_class_iter['relative_position'] < 0.03))]\n",
    "\n",
    "    # Now calculates the mean positions of comments with lower and higher reply counts (based on the hyperparameter)\n",
    "    above_avg_comments = df_class_iter[df_class_iter['reply_count'] > df_class_iter['x_mean_reply_count']]\n",
    "    below_avg_comments = df_class_iter[df_class_iter['reply_count'] <= df_class_iter['x_mean_reply_count']]\n",
    "\n",
    "    mean_position_above_avg = above_avg_comments['relative_position'].mean()\n",
    "    mean_position_below_avg = below_avg_comments['relative_position'].mean()\n",
    "\n",
    "    # Number of comments in each category\n",
    "    num_above_avg_comments = len(above_avg_comments)\n",
    "    num_below_avg_comments = len(below_avg_comments)\n",
    "\n",
    "    print(f\"For x={x}:\")\n",
    "    print(f\"Number of comments with above {x} times the average replies: {num_above_avg_comments}\")\n",
    "    print(f\"Mean relative position: {mean_position_above_avg}\")\n",
    "    print(f\"Number of comments with below or equal to {x} times the average replies: {num_below_avg_comments}\")\n",
    "    print(f\"Mean relative position: {mean_position_below_avg}\\n\")\n"
   ]
  },
  {
   "cell_type": "code",
   "execution_count": 415,
   "id": "c39e146f",
   "metadata": {},
   "outputs": [
    {
     "name": "stdout",
     "output_type": "stream",
     "text": [
      "       relative_position          y  like_count\n",
      "7571            0.147147  10.748414        39.0\n",
      "7685            0.489489  10.566058         9.0\n",
      "7760            0.714715  11.939257        10.0\n",
      "10005           0.124601   9.392052         6.0\n",
      "11334           0.148058  13.776493        31.0\n",
      "11520           0.373786  18.784103         7.0\n",
      "11534           0.390777  10.671119        50.0\n",
      "13047           0.476489  10.566058         8.0\n",
      "13263           0.815047   9.879406        19.0\n",
      "13314           0.894984  13.316863        11.0\n",
      "14421           1.000000   9.392052         8.0\n",
      "15506           0.014831   9.774775       270.0\n",
      "17192           0.828125   9.089054        16.0\n",
      "17890           0.961078   9.392052         8.0\n",
      "20447           0.799649  10.566058         6.0\n",
      "22213           0.580762  10.561650        13.0\n",
      "22444           1.000000   9.392052         6.0\n",
      "22750           0.488294   9.392052         7.0\n",
      "26688           0.001004  11.748148       838.0\n",
      "28301           0.888889  20.153989        18.0\n",
      "29271           0.001004  11.748148       838.0\n",
      "30397           0.001008  10.687566       109.0\n",
      "31626           0.001751  17.485714       142.0\n",
      "31763           0.241681   9.643246        13.0\n",
      "32180           0.971979  10.217160        22.0\n",
      "32320           0.001250  25.928044       111.0\n",
      "32672           0.441250  11.153061         5.0\n",
      "33078           0.948750   9.089054        16.0\n",
      "33102           0.978750   9.819782        28.0\n",
      "33728           0.675345   9.184044        12.0\n",
      "34182           0.002268  17.258883       185.0\n",
      "34376           0.442177  18.197100         7.0\n",
      "34388           0.469388  11.740064         5.0\n",
      "35706           0.888889  20.153989        18.0\n"
     ]
    },
    {
     "name": "stderr",
     "output_type": "stream",
     "text": [
      "C:\\Users\\morit\\AppData\\Local\\Temp\\ipykernel_5828\\3188167167.py:11: SettingWithCopyWarning: \n",
      "A value is trying to be set on a copy of a slice from a DataFrame.\n",
      "Try using .loc[row_indexer,col_indexer] = value instead\n",
      "\n",
      "See the caveats in the documentation: https://pandas.pydata.org/pandas-docs/stable/user_guide/indexing.html#returning-a-view-versus-a-copy\n",
      "  df_above_threshold['y'] = df_above_threshold['reply_count'] / df_class_selected['mean_reply_count']\n"
     ]
    }
   ],
   "source": [
    "#Set threshold\n",
    "x = 9\n",
    "\n",
    "#Creates the threshold column\n",
    "df_class_selected['x_mean_reply_count'] = df_class_selected['mean_reply_count'] * x\n",
    "\n",
    "#Filters out the comments that have above 9 times the average reply\n",
    "df_above_threshold = df_class_selected[df_class_selected['reply_count'] > df_class_selected['x_mean_reply_count']]\n",
    "\n",
    "#Computes y for each row\n",
    "df_above_threshold['y'] = df_above_threshold['reply_count'] / df_class_selected['mean_reply_count']\n",
    "\n",
    "#Prints the comments and their respective relative positions, y values, and like counts\n",
    "print(df_above_threshold[['relative_position', 'y', 'like_count']])\n"
   ]
  },
  {
   "cell_type": "code",
   "execution_count": 416,
   "id": "e18f6175",
   "metadata": {},
   "outputs": [
    {
     "name": "stdout",
     "output_type": "stream",
     "text": [
      "For class 65:\n",
      " Mean relative position of comments with above 5 times the average replies: 0.6346432131875313\n",
      "Mean relative position of comments with below or equal to 5 times the average replies: 0.39516813669601325\n",
      "{}\n"
     ]
    }
   ],
   "source": [
    "#Sets threshold\n",
    "x = 8\n",
    "relative_position_threshold = 0.03\n",
    "\n",
    "#Creates the threshold column\n",
    "df_class_selected['x_mean_reply_count'] = df_class_selected['mean_reply_count'] * x\n",
    "\n",
    "#Filters the dataframe to remove comments that have above 8 times the average reply and relative position lower than 0.03\n",
    "df_class_selected = df_class_selected[~((df_class_selected['reply_count'] > df_class_selected['x_mean_reply_count']) & (df_class_selected['relative_position'] < relative_position_threshold))]\n",
    "\n",
    "#Calculates the mean positions of comments with lower and higher reply counts\n",
    "mean_position_above_avg = df_class_selected[df_class_selected['reply_count'] > df_class_selected['x_mean_reply_count']]['relative_position'].mean()\n",
    "mean_position_below_avg = df_class_selected[df_class_selected['reply_count'] <= df_class_selected['x_mean_reply_count']]['relative_position'].mean()\n",
    "\n",
    "print(f\"For class 65:\\n Mean relative position of comments with above 5 times the average replies: {mean_position_above_avg}\")\n",
    "print(f\"Mean relative position of comments with below or equal to 5 times the average replies: {mean_position_below_avg}\")\n",
    "print({})\n"
   ]
  },
  {
   "cell_type": "code",
   "execution_count": 417,
   "id": "fd4f9ee1",
   "metadata": {},
   "outputs": [
    {
     "name": "stdout",
     "output_type": "stream",
     "text": [
      "For class 65:\n",
      " Mean relative position of comments with above 5 times the average replies: 0.461341833187547\n",
      "Mean relative position of comments with below or equal to 5 times the average replies: 0.3950078728024358\n",
      "{}\n"
     ]
    }
   ],
   "source": [
    "df_class_selected = filtered_df[filtered_df['like_range_class'] <= 69]\n",
    "\n",
    "#Defines hyperparameter x as a threshold by creating new column 'x_mean_reply_count' which is x times the mean reply count for each class\n",
    "df_class_selected['x_mean_reply_count'] = df_class_selected['mean_reply_count'] * 6\n",
    "\n",
    "#Now calculating the mean positions of comments with lower and higher reply counts (based on the hyperparameter)\n",
    "mean_position_above_avg = df_class_selected[df_class_selected['reply_count'] > df_class_selected['x_mean_reply_count']]['relative_position'].mean()\n",
    "mean_position_below_avg = df_class_selected[df_class_selected['reply_count'] <= df_class_selected['x_mean_reply_count']]['relative_position'].mean()\n",
    "\n",
    "print(f\"For class 65:\\n Mean relative position of comments with above 5 times the average replies: {mean_position_above_avg}\")\n",
    "print(f\"Mean relative position of comments with below or equal to 5 times the average replies: {mean_position_below_avg}\")\n",
    "print({})"
   ]
  },
  {
   "cell_type": "code",
   "execution_count": null,
   "id": "bcd0c379",
   "metadata": {},
   "outputs": [],
   "source": []
  },
  {
   "cell_type": "code",
   "execution_count": null,
   "id": "61c57df5",
   "metadata": {},
   "outputs": [],
   "source": []
  },
  {
   "cell_type": "code",
   "execution_count": null,
   "id": "ed1c3874",
   "metadata": {},
   "outputs": [],
   "source": []
  },
  {
   "cell_type": "code",
   "execution_count": null,
   "id": "daf0b129",
   "metadata": {},
   "outputs": [],
   "source": []
  },
  {
   "cell_type": "code",
   "execution_count": 418,
   "id": "dcce6560",
   "metadata": {},
   "outputs": [
    {
     "name": "stdout",
     "output_type": "stream",
     "text": [
      "         user_interaction_index  relative_position\n",
      "cluster                                           \n",
      "0.0                    0.138243           0.728158\n",
      "1.0                    0.095645           0.166362\n",
      "2.0                    1.176598           0.566148\n"
     ]
    },
    {
     "data": {
      "image/png": "[encoded data removed]",
      "text/plain": [
       "<Figure size 640x480 with 1 Axes>"
      ]
     },
     "metadata": {},
     "output_type": "display_data"
    }
   ],
   "source": [
    "from sklearn.cluster import KMeans\n",
    "from sklearn.preprocessing import StandardScaler\n",
    "import seaborn as sns\n",
    "import matplotlib.pyplot as plt\n",
    "from matplotlib import cm\n",
    "\n",
    "#Defines a colormap\n",
    "cmap = cm.get_cmap('tab10')  # This is one of the colormaps provided by matplotlib. You can change 'tab10' to the name of any other colormap.\n",
    "\n",
    "#Only considers the relevant columns\n",
    "df_clustering = df_class_selected[['user_interaction_index', 'relative_position']].dropna()\n",
    "\n",
    "#Standardizes the data\n",
    "scaler = StandardScaler()\n",
    "df_clustering_scaled = scaler.fit_transform(df_clustering)\n",
    "\n",
    "#Run k-means\n",
    "kmeans = KMeans(n_clusters=3, random_state=0).fit(df_clustering_scaled)\n",
    "\n",
    "#Adds the cluster labels to the original DataFrame\n",
    "df_class_selected.loc[df_clustering.index, 'cluster'] = kmeans.labels_\n",
    "print(df_class_selected.groupby('cluster')[['user_interaction_index', 'relative_position']].mean())\n",
    "\n",
    "# Plots the clusters using the defined colormap\n",
    "plt.scatter(df_class_selected['user_interaction_index'], df_class_selected['relative_position'], c=df_class_selected['cluster'], cmap=cmap)\n",
    "plt.xlabel('User Interaction Index')\n",
    "plt.ylabel('Relative Position')\n",
    "plt.show()\n"
   ]
  },
  {
   "cell_type": "code",
   "execution_count": 419,
   "id": "903d53b2",
   "metadata": {},
   "outputs": [
    {
     "name": "stdout",
     "output_type": "stream",
     "text": [
      "1    5240\n",
      "0    3494\n",
      "2     234\n",
      "dtype: int64\n"
     ]
    }
   ],
   "source": [
    "#Gets cluster labels\n",
    "labels = kmeans.labels_\n",
    "\n",
    "#Converts to a pandas Series for easier counting\n",
    "labels_series = pd.Series(labels)\n",
    "\n",
    "#Counts the number of data points in each cluster\n",
    "cluster_counts = labels_series.value_counts()\n",
    "\n",
    "#Prints the counts\n",
    "print(cluster_counts)\n"
   ]
  },
  {
   "cell_type": "code",
   "execution_count": 420,
   "id": "928bf2c8",
   "metadata": {},
   "outputs": [
    {
     "name": "stdout",
     "output_type": "stream",
     "text": [
      "              comment_user           comment_time  like_count  reply_count  \\\n",
      "6                S Alcaraz           5 months ago      1000.0         92.0   \n",
      "16     Matthias Wunderlich           5 months ago      2600.0         78.0   \n",
      "861           @super-tc7rc            3 weeks ago      1400.0         78.0   \n",
      "2333                 Bi Bi           4 months ago      2200.0        130.0   \n",
      "2336    Dirk Peter Hellwig           4 months ago      2000.0         76.0   \n",
      "...                    ...                    ...         ...          ...   \n",
      "35232      @marckonrad7851  4 months ago (edited)       722.0        203.0   \n",
      "36948          @creeds7005            4 years ago      1100.0         79.0   \n",
      "37237         @kalebs.9559   3 years ago (edited)      2900.0         78.0   \n",
      "37249     @andrewyoung5915            3 years ago      4300.0         80.0   \n",
      "37679      @mikerphone4865            3 years ago       550.0         95.0   \n",
      "\n",
      "       user_interaction_index  position  position_bucket   video_id  \\\n",
      "6                    0.092000         7                0      bild1   \n",
      "16                   0.030000        17                0      bild1   \n",
      "861                  0.055714         1                0     bild10   \n",
      "2333                 0.059091         1                0     bild13   \n",
      "2336                 0.038000         4                0     bild13   \n",
      "...                       ...       ...              ...        ...   \n",
      "35232                0.281163        14                0  unbubble9   \n",
      "36948                0.071818       858                7      vice1   \n",
      "37237                0.026897        19                0      vice2   \n",
      "37249                0.018605        31                0      vice2   \n",
      "37679                0.172727       461                4      vice2   \n",
      "\n",
      "       like_range_class  relative_position  mean_reply_count  \\\n",
      "6                  59.0           0.010638         24.083333   \n",
      "16                 67.0           0.025836         72.944444   \n",
      "861                61.0           0.002155         40.511111   \n",
      "2333               65.0           0.001453         56.625000   \n",
      "2336               64.0           0.005814         51.956522   \n",
      "...                 ...                ...               ...   \n",
      "35232              56.0           0.025501         32.220930   \n",
      "36948              59.0           0.931596         24.083333   \n",
      "37237              68.0           0.026798         65.000000   \n",
      "37249              69.0           0.043724         71.912698   \n",
      "37679              52.0           0.650212         25.086957   \n",
      "\n",
      "       x_mean_reply_count  cluster   z_score  \n",
      "6              144.500000      1.0  3.799251  \n",
      "16             437.666667      1.0  3.165898  \n",
      "861            243.066667      1.0  3.165898  \n",
      "2333           339.750000      1.0  5.518352  \n",
      "2336           311.739130      1.0  3.075419  \n",
      "...                   ...      ...       ...  \n",
      "35232          193.325581      1.0  8.820835  \n",
      "36948          144.500000      0.0  3.211137  \n",
      "37237          390.000000      1.0  3.165898  \n",
      "37249          431.476190      1.0  3.256377  \n",
      "37679          150.521739      0.0  3.934969  \n",
      "\n",
      "[137 rows x 14 columns]\n"
     ]
    }
   ],
   "source": [
    "#Displaying outliers\n",
    "from scipy.stats import zscore\n",
    "\n",
    "z_scores = zscore(df_class_selected['reply_count'])\n",
    "df_class_selected['z_score'] = z_scores\n",
    "\n",
    "#Filters for data points with a Z-score greater than 3 or less than -3\n",
    "outliers = df_class_selected[(df_class_selected['z_score'] > 3) | (df_class_selected['z_score'] < -3)]\n",
    "\n",
    "print(outliers)\n"
   ]
  },
  {
   "cell_type": "code",
   "execution_count": null,
   "id": "eaff9abe",
   "metadata": {},
   "outputs": [],
   "source": []
  },
  {
   "cell_type": "code",
   "execution_count": null,
   "id": "d5869f91",
   "metadata": {},
   "outputs": [],
   "source": []
  },
  {
   "cell_type": "code",
   "execution_count": null,
   "id": "486d115d",
   "metadata": {},
   "outputs": [],
   "source": []
  },
  {
   "cell_type": "code",
   "execution_count": null,
   "id": "0271f1f8",
   "metadata": {},
   "outputs": [],
   "source": []
  },
  {
   "cell_type": "code",
   "execution_count": null,
   "id": "75dba51b",
   "metadata": {},
   "outputs": [],
   "source": []
  },
  {
   "cell_type": "code",
   "execution_count": null,
   "id": "0990c37b",
   "metadata": {},
   "outputs": [],
   "source": []
  },
  {
   "cell_type": "code",
   "execution_count": null,
   "id": "42dcc285",
   "metadata": {},
   "outputs": [],
   "source": []
  },
  {
   "cell_type": "code",
   "execution_count": 421,
   "id": "e6eac6bf",
   "metadata": {},
   "outputs": [],
   "source": [
    "#Condition which filters all comments with less than 5 likes OR answers (below this threshold, we cannot assume that the unser interaction index is representing a discussion. There still may be some bias!)\n",
    "\n",
    "condition = (combined_df['like_count'] >= 20) & (combined_df['like_count'] <= 22) & (combined_df['reply_count'] >= 3)\n",
    "\n",
    "combined_df.loc[condition, 'user_interaction_index'] = combined_df.loc[condition, 'reply_count'] / combined_df.loc[condition, 'like_count'] * 100\n",
    "\n",
    "#For rows where condition is False,'user_interaction_index' is set to NaN or another value\n",
    "combined_df.loc[~condition, 'user_interaction_index'] = np.nan\n",
    "\n",
    "# Verify condition\n",
    "assert combined_df[condition]['user_interaction_index'].notnull().all()\n",
    "assert combined_df[~condition]['user_interaction_index'].isnull().all()\n",
    "combined_df.to_excel('combined_dfs2.xlsx')"
   ]
  },
  {
   "cell_type": "code",
   "execution_count": null,
   "id": "8dd81926",
   "metadata": {},
   "outputs": [],
   "source": [
    "\n"
   ]
  },
  {
   "cell_type": "code",
   "execution_count": 422,
   "id": "64b142e5",
   "metadata": {},
   "outputs": [],
   "source": []
  },
  {
   "cell_type": "code",
   "execution_count": null,
   "id": "c2078a25",
   "metadata": {
    "scrolled": true
   },
   "outputs": [],
   "source": []
  },
  {
   "cell_type": "code",
   "execution_count": 423,
   "id": "a8b6ef48",
   "metadata": {},
   "outputs": [],
   "source": []
  },
  {
   "cell_type": "code",
   "execution_count": 424,
   "id": "1850173c",
   "metadata": {},
   "outputs": [
    {
     "name": "stdout",
     "output_type": "stream",
     "text": [
      "Bucket 0: Mean = 26.80, Median = 20.45, Count = 76\n",
      "Bucket 1: Mean = 39.15, Median = 29.32, Count = 56\n",
      "Bucket 2: Mean = 30.77, Median = 25.64, Count = 33\n",
      "Bucket 3: Mean = 32.78, Median = 24.26, Count = 34\n",
      "Bucket 4: Mean = 29.36, Median = 24.70, Count = 30\n",
      "Bucket 5: Mean = 30.89, Median = 29.23, Count = 23\n",
      "Bucket 6: Mean = 35.19, Median = 34.38, Count = 26\n",
      "Bucket 7: Mean = 45.02, Median = 38.75, Count = 24\n",
      "Bucket 8: Mean = 46.01, Median = 35.14, Count = 13\n",
      "Bucket 9: Mean = 50.26, Median = 50.00, Count = 5\n"
     ]
    }
   ],
   "source": [
    "condition = (combined_df['like_count'] >= 20) & (combined_df['like_count'] <= 100) & (combined_df['reply_count'] >= 10)\n",
    "\n",
    "combined_df.loc[condition, 'user_interaction_index'] = combined_df.loc[condition, 'reply_count'] / combined_df.loc[condition, 'like_count'] * 100\n",
    "\n",
    "#For rows where condition is False,'user_interaction_index' is set to NaN or another value\n",
    "combined_df.loc[~condition, 'user_interaction_index'] = np.nan\n",
    "\n",
    "#Verifies condition\n",
    "assert combined_df[condition]['user_interaction_index'].notnull().all()\n",
    "assert combined_df[~condition]['user_interaction_index'].isnull().all()\n",
    "combined_df.to_excel('combined_dfs2.xlsx')\n",
    "#Calculates mean and median for each bucket\n",
    "bucket_mean = combined_df.groupby('position_bucket')['user_interaction_index'].mean()\n",
    "bucket_median = combined_df.groupby('position_bucket')['user_interaction_index'].median()\n",
    "bucket_count = combined_df.groupby('position_bucket')['user_interaction_index'].count()\n",
    "\n",
    "#Prints mean, median, and count for each bucket\n",
    "for bucket, mean_val, median_val, count_val in zip(bucket_mean.index, bucket_mean.values, bucket_median.values, bucket_count.values):\n",
    "    print(f\"Bucket {bucket}: Mean = {mean_val:.2f}, Median = {median_val:.2f}, Count = {count_val}\")"
   ]
  },
  {
   "cell_type": "code",
   "execution_count": 425,
   "id": "0b37ef29",
   "metadata": {},
   "outputs": [
    {
     "name": "stdout",
     "output_type": "stream",
     "text": [
      "Bucket 0: 3849 entries\n",
      "Bucket 1: 3819 entries\n",
      "Bucket 2: 3817 entries\n",
      "Bucket 3: 3821 entries\n",
      "Bucket 4: 3826 entries\n",
      "Bucket 5: 3811 entries\n",
      "Bucket 6: 3818 entries\n",
      "Bucket 7: 3820 entries\n",
      "Bucket 8: 3816 entries\n",
      "Bucket 9: 3847 entries\n"
     ]
    },
    {
     "data": {
      "image/png": "[encoded data removed]",
      "text/plain": [
       "<Figure size 640x480 with 1 Axes>"
      ]
     },
     "metadata": {},
     "output_type": "display_data"
    }
   ],
   "source": [
    "import matplotlib.pyplot as plt\n",
    "\n",
    "#Calculates mean and median for each bucket\n",
    "bucket_mean = combined_df.groupby('position_bucket')['user_interaction_index'].mean()\n",
    "bucket_median = combined_df.groupby('position_bucket')['user_interaction_index'].median()\n",
    "# Count the number of entries in each bucket after applying the filtering condition\n",
    "bucket_counts = combined_df.groupby('position_bucket').size()\n",
    "\n",
    "#Plots mean curve\n",
    "plt.plot(bucket_mean.index, bucket_mean.values, color='blue', label='Mean')\n",
    "\n",
    "#Plots median curve\n",
    "plt.plot(bucket_median.index, bucket_median.values, color='red', label='Median')\n",
    "#Prints the number of entries in each bucket\n",
    "for bucket, count in zip(bucket_counts.index, bucket_counts.values):\n",
    "    print(f\"Bucket {bucket}: {count} entries\")\n",
    "\n",
    "plt.xlabel('Position Bucket')\n",
    "plt.ylabel('User Interaction Index')\n",
    "plt.title('Mean and Median of UII by Position Bucket')\n",
    "plt.legend()\n",
    "plt.show()\n"
   ]
  },
  {
   "cell_type": "code",
   "execution_count": null,
   "id": "e65638f8",
   "metadata": {},
   "outputs": [],
   "source": []
  },
  {
   "cell_type": "code",
   "execution_count": null,
   "id": "15ccbf7e",
   "metadata": {},
   "outputs": [],
   "source": []
  },
  {
   "cell_type": "code",
   "execution_count": null,
   "id": "1f43efe9",
   "metadata": {},
   "outputs": [],
   "source": []
  },
  {
   "cell_type": "code",
   "execution_count": null,
   "id": "b04a6815",
   "metadata": {},
   "outputs": [],
   "source": []
  },
  {
   "cell_type": "code",
   "execution_count": null,
   "id": "56a52833",
   "metadata": {},
   "outputs": [],
   "source": []
  },
  {
   "cell_type": "code",
   "execution_count": null,
   "id": "d1bddb0f",
   "metadata": {},
   "outputs": [],
   "source": []
  },
  {
   "cell_type": "code",
   "execution_count": null,
   "id": "e4cd4d2b",
   "metadata": {},
   "outputs": [],
   "source": []
  },
  {
   "cell_type": "code",
   "execution_count": null,
   "id": "5a22e71d",
   "metadata": {},
   "outputs": [],
   "source": []
  },
  {
   "cell_type": "code",
   "execution_count": null,
   "id": "e5455443",
   "metadata": {},
   "outputs": [],
   "source": []
  },
  {
   "cell_type": "code",
   "execution_count": null,
   "id": "088fe00a",
   "metadata": {},
   "outputs": [],
   "source": []
  },
  {
   "cell_type": "code",
   "execution_count": null,
   "id": "a4baf7ee",
   "metadata": {},
   "outputs": [],
   "source": []
  },
  {
   "cell_type": "code",
   "execution_count": null,
   "id": "acfe869b",
   "metadata": {},
   "outputs": [],
   "source": []
  },
  {
   "cell_type": "code",
   "execution_count": null,
   "id": "45f36601",
   "metadata": {},
   "outputs": [],
   "source": []
  },
  {
   "cell_type": "code",
   "execution_count": null,
   "id": "faad26d6",
   "metadata": {},
   "outputs": [],
   "source": []
  },
  {
   "cell_type": "code",
   "execution_count": null,
   "id": "dc71063c",
   "metadata": {},
   "outputs": [],
   "source": []
  },
  {
   "cell_type": "code",
   "execution_count": null,
   "id": "63a09d6e",
   "metadata": {},
   "outputs": [],
   "source": []
  },
  {
   "cell_type": "code",
   "execution_count": null,
   "id": "122ab9f8",
   "metadata": {},
   "outputs": [],
   "source": []
  },
  {
   "cell_type": "code",
   "execution_count": null,
   "id": "b48e7a77",
   "metadata": {},
   "outputs": [],
   "source": []
  },
  {
   "cell_type": "code",
   "execution_count": null,
   "id": "fd1da225",
   "metadata": {},
   "outputs": [],
   "source": []
  },
  {
   "cell_type": "code",
   "execution_count": null,
   "id": "71143a09",
   "metadata": {},
   "outputs": [],
   "source": []
  },
  {
   "cell_type": "code",
   "execution_count": null,
   "id": "e4edaa4f",
   "metadata": {},
   "outputs": [],
   "source": []
  },
  {
   "cell_type": "code",
   "execution_count": null,
   "id": "180ebbd3",
   "metadata": {},
   "outputs": [],
   "source": []
  },
  {
   "cell_type": "code",
   "execution_count": 56,
   "id": "3bf9c995",
   "metadata": {},
   "outputs": [
    {
     "ename": "NameError",
     "evalue": "name 'PolynomialFeatures' is not defined",
     "output_type": "error",
     "traceback": [
      "\u001b[1;31m---------------------------------------------------------------------------\u001b[0m",
      "\u001b[1;31mNameError\u001b[0m                                 Traceback (most recent call last)",
      "\u001b[1;32m~\\AppData\\Local\\Temp\\ipykernel_12164\\1720572967.py\u001b[0m in \u001b[0;36m<module>\u001b[1;34m\u001b[0m\n\u001b[0;32m     14\u001b[0m \u001b[1;33m\u001b[0m\u001b[0m\n\u001b[0;32m     15\u001b[0m \u001b[1;31m# Create Polynomial Features\u001b[0m\u001b[1;33m\u001b[0m\u001b[1;33m\u001b[0m\u001b[0m\n\u001b[1;32m---> 16\u001b[1;33m \u001b[0mpoly\u001b[0m \u001b[1;33m=\u001b[0m \u001b[0mPolynomialFeatures\u001b[0m\u001b[1;33m(\u001b[0m\u001b[0mdegree\u001b[0m\u001b[1;33m=\u001b[0m\u001b[1;36m6\u001b[0m\u001b[1;33m)\u001b[0m\u001b[1;33m\u001b[0m\u001b[1;33m\u001b[0m\u001b[0m\n\u001b[0m\u001b[0;32m     17\u001b[0m \u001b[0mX_poly_subset\u001b[0m \u001b[1;33m=\u001b[0m \u001b[0mpoly\u001b[0m\u001b[1;33m.\u001b[0m\u001b[0mfit_transform\u001b[0m\u001b[1;33m(\u001b[0m\u001b[0mX_subset\u001b[0m\u001b[1;33m)\u001b[0m\u001b[1;33m\u001b[0m\u001b[1;33m\u001b[0m\u001b[0m\n\u001b[0;32m     18\u001b[0m \u001b[1;33m\u001b[0m\u001b[0m\n",
      "\u001b[1;31mNameError\u001b[0m: name 'PolynomialFeatures' is not defined"
     ]
    }
   ],
   "source": [
    "import operator\n",
    "# Calculate the 20% position\n",
    "#top_20_percent_position = combined_df['position'].quantile(0.2)\n",
    "# Select first 20% of data\n",
    "#subset_df = combined_df[combined_df['position'] <= top_20_percent_position]\n",
    "\n",
    "\n",
    "# Select first 200 buckets\n",
    "subset_df = combined_df[combined_df['position_bucket'] < 200]\n",
    "\n",
    "# Prepare data\n",
    "X_subset = subset_df['position_bucket'].values.reshape(-1, 1)  # reshape for sklearn\n",
    "y_subset = subset_df['user_interaction_index'].values\n",
    "\n",
    "# Create Polynomial Features\n",
    "poly = PolynomialFeatures(degree=6)\n",
    "X_poly_subset = poly.fit_transform(X_subset)\n",
    "\n",
    "# Fit Model\n",
    "model_subset = LinearRegression().fit(X_poly_subset, y_subset)\n",
    "\n",
    "# Predict\n",
    "y_poly_pred_subset = model_subset.predict(X_poly_subset)\n",
    "\n",
    "# Sort the values in ascending order for plotting\n",
    "sort_axis = operator.itemgetter(0)\n",
    "sorted_zip = sorted(zip(X_subset,y_poly_pred_subset), key=sort_axis)\n",
    "X_subset, y_poly_pred_subset = zip(*sorted_zip)\n",
    "\n",
    "# Plot\n",
    "plt.figure(figsize=(10,6))\n",
    "plt.scatter(X_subset, y_subset, color='b')\n",
    "plt.plot(X_subset, y_poly_pred_subset, color='m')\n",
    "plt.ylim(0, 50)\n",
    "plt.title('Polynomial Regression for first 200 quantiles')\n",
    "plt.xlabel('Position Bucket')\n",
    "plt.ylabel('User Interaction Index')\n",
    "plt.grid(True)\n",
    "plt.show()\n"
   ]
  },
  {
   "cell_type": "code",
   "execution_count": 23,
   "id": "1bbc2f23",
   "metadata": {},
   "outputs": [
    {
     "ename": "NameError",
     "evalue": "name 'PolynomialFeatures' is not defined",
     "output_type": "error",
     "traceback": [
      "\u001b[1;31m---------------------------------------------------------------------------\u001b[0m",
      "\u001b[1;31mNameError\u001b[0m                                 Traceback (most recent call last)",
      "\u001b[1;32m~\\AppData\\Local\\Temp\\ipykernel_12164\\2179175686.py\u001b[0m in \u001b[0;36m<module>\u001b[1;34m\u001b[0m\n\u001b[0;32m     16\u001b[0m \u001b[1;33m\u001b[0m\u001b[0m\n\u001b[0;32m     17\u001b[0m \u001b[1;31m# Create Polynomial Features\u001b[0m\u001b[1;33m\u001b[0m\u001b[1;33m\u001b[0m\u001b[0m\n\u001b[1;32m---> 18\u001b[1;33m \u001b[0mpoly\u001b[0m \u001b[1;33m=\u001b[0m \u001b[0mPolynomialFeatures\u001b[0m\u001b[1;33m(\u001b[0m\u001b[0mdegree\u001b[0m\u001b[1;33m=\u001b[0m\u001b[1;36m3\u001b[0m\u001b[1;33m)\u001b[0m\u001b[1;33m\u001b[0m\u001b[1;33m\u001b[0m\u001b[0m\n\u001b[0m\u001b[0;32m     19\u001b[0m \u001b[0mX_poly_top30\u001b[0m \u001b[1;33m=\u001b[0m \u001b[0mpoly\u001b[0m\u001b[1;33m.\u001b[0m\u001b[0mfit_transform\u001b[0m\u001b[1;33m(\u001b[0m\u001b[0mX_top30\u001b[0m\u001b[1;33m)\u001b[0m\u001b[1;33m\u001b[0m\u001b[1;33m\u001b[0m\u001b[0m\n\u001b[0;32m     20\u001b[0m \u001b[1;33m\u001b[0m\u001b[0m\n",
      "\u001b[1;31mNameError\u001b[0m: name 'PolynomialFeatures' is not defined"
     ]
    }
   ],
   "source": [
    "#here the first 30 comments of each dataset are processed and plotted. \n",
    "\n",
    "# Initialize an empty DataFrame\n",
    "top30_df = pd.DataFrame()\n",
    "\n",
    "# Loop through each video and add top 30 datapoints to top30_df\n",
    "for video_id, group in combined_df.groupby('video_id'):\n",
    "    top_datapoints = group.nsmallest(30, 'position')\n",
    "    top30_df = pd.concat([top30_df, top_datapoints])\n",
    "\n",
    "# Now top30_df has the top 30 datapoints from each video\n",
    "\n",
    "# Prepare data\n",
    "X_top30 = top30_df['position'].values.reshape(-1, 1)  # reshape for sklearn\n",
    "y_top30 = top30_df['user_interaction_index'].values\n",
    "\n",
    "# Create Polynomial Features\n",
    "poly = PolynomialFeatures(degree=3)\n",
    "X_poly_top30 = poly.fit_transform(X_top30)\n",
    "\n",
    "# Fit Model\n",
    "model_top30 = LinearRegression().fit(X_poly_top30, y_top30)\n",
    "\n",
    "# Predict\n",
    "y_poly_pred_top30 = model_top30.predict(X_poly_top30)\n",
    "\n",
    "# Sort the values in ascending order for plotting\n",
    "sort_axis = operator.itemgetter(0)\n",
    "sorted_zip = sorted(zip(X_top30,y_poly_pred_top30), key=sort_axis)\n",
    "X_top30, y_poly_pred_top30 = zip(*sorted_zip)\n",
    "\n",
    "# Plot\n",
    "plt.figure(figsize=(10,6))\n",
    "plt.scatter(X_top30, y_top30, color='b')\n",
    "plt.plot(X_top30, y_poly_pred_top30, color='m')\n",
    "plt.ylim(0, 25)\n",
    "plt.title('Polynomial Regression for first 30 datapoints from each video')\n",
    "plt.xlabel('Position')\n",
    "plt.ylabel('User Interaction Index')\n",
    "plt.grid(True)\n",
    "plt.show()\n"
   ]
  },
  {
   "cell_type": "code",
   "execution_count": null,
   "id": "6672ec08",
   "metadata": {},
   "outputs": [],
   "source": []
  },
  {
   "cell_type": "code",
   "execution_count": null,
   "id": "2965b30d",
   "metadata": {},
   "outputs": [],
   "source": []
  },
  {
   "cell_type": "code",
   "execution_count": null,
   "id": "20e582af",
   "metadata": {},
   "outputs": [],
   "source": [
    "filtered_df.sort_values('position', inplace=True)\n",
    "result_df = pd.DataFrame(columns=['Comment_ID', 'Distance', 'Class'])\n",
    "num_comments = 100  # Number of comments to consider\n",
    "\n",
    "for video_id, group in filtered_df.groupby('video_id'):\n",
    "    # Select the first 100 comments for each dataset\n",
    "    group = group.head(num_comments)\n",
    "    \n",
    "    # Calculate the distance for each comment\n",
    "    group['Distance'] = group['position'] - 1\n",
    "    \n",
    "    # Assign the class based on the position of the comment\n",
    "    group['Class'] = pd.cut(group['position'], bins=num_comments, labels=range(1, num_comments + 1))\n",
    "    \n",
    "    # Append the results to the result DataFrame\n",
    "    result_df = pd.concat([result_df, group[['Comment_ID', 'Distance', 'Class']]])"
   ]
  },
  {
   "cell_type": "code",
   "execution_count": null,
   "id": "3c42e463",
   "metadata": {},
   "outputs": [],
   "source": []
  },
  {
   "cell_type": "code",
   "execution_count": null,
   "id": "59853679",
   "metadata": {},
   "outputs": [],
   "source": []
  }
 ],
 "metadata": {
  "kernelspec": {
   "display_name": "Python 3 (ipykernel)",
   "language": "python",
   "name": "python3"
  },
  "language_info": {
   "codemirror_mode": {
    "name": "ipython",
    "version": 3
   },
   "file_extension": ".py",
   "mimetype": "text/x-python",
   "name": "python",
   "nbconvert_exporter": "python",
   "pygments_lexer": "ipython3",
   "version": "3.9.13"
  }
 },
 "nbformat": 4,
 "nbformat_minor": 5
}
